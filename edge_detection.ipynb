{
 "cells": [
  {
   "cell_type": "code",
   "execution_count": null,
   "metadata": {},
   "outputs": [],
   "source": [
    "# Meaning of low-threshold and high-threshold\n",
    "import cv2 as cv\n",
    "import numpy as np\n",
    "import math\n",
    "hi_threshold_max = 255\n",
    "title_window = r'Canny'\n",
    "\n",
    "ratio = 0.3 # Low threshold/Hi threshold\n",
    "hi_threshold = 255\n",
    "low_threshold = math.floor(hi_threshold*ratio)\n",
    "\n",
    "def on_trackbar(val):\n",
    "    hi_threshold = cv.getTrackbarPos(trackbar1_name, title_window)\n",
    "    ratio = cv.getTrackbarPos(trackbar2_name, title_window)/100.\n",
    "    low_threshold = hi_threshold*ratio\n",
    "    edges = cv.Canny(im,low_threshold,hi_threshold)\n",
    "    cv.imshow(title_window, edges)\n",
    "\n",
    "im = cv.imread('images/girl.jpg', cv.IMREAD_COLOR)\n",
    "if im is None:\n",
    "    print('Could not open or find the image: ')\n",
    "    exit(0)\n",
    "\n",
    "cv.namedWindow(title_window)\n",
    "trackbar1_name = r'High Threshold Value'\n",
    "cv.createTrackbar(trackbar1_name, title_window , hi_threshold, hi_threshold_max, on_trackbar)\n",
    "trackbar2_name = r'Low Threshold %'\n",
    "cv.createTrackbar(trackbar2_name, title_window , 1, 100, on_trackbar)\n",
    "on_trackbar(hi_threshold)\n",
    "cv.waitKey()\n",
    "cv.destroyAllWindows()"
   ]
  }
 ],
 "metadata": {
  "language_info": {
   "name": "python"
  }
 },
 "nbformat": 4,
 "nbformat_minor": 2
}
