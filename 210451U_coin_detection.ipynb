{
 "cells": [
  {
   "cell_type": "code",
   "execution_count": null,
   "metadata": {},
   "outputs": [],
   "source": [
    "import numpy as np\n",
    "import cv2 as cv\n",
    "import matplotlib.pyplot as plt\n",
    "\n",
    "coins = cv.imread(\"Images/coins/coins.png\", cv.IMREAD_GRAYSCALE)\n",
    "assert coins is not None\n",
    "p = cv.imread(\"Images/coins/Penny.png\", cv.IMREAD_GRAYSCALE)\n",
    "assert p is not None\n",
    "n = cv.imread(\"Images/coins/Nickel.png\", cv.IMREAD_GRAYSCALE)\n",
    "assert n is not None\n",
    "d = cv.imread(\"Images/coins/Dime.png\", cv.IMREAD_GRAYSCALE)\n",
    "assert d is not None\n",
    "q = cv.imread(\"Images/coins/Quater.png\", cv.IMREAD_GRAYSCALE)\n",
    "assert q is not None\n",
    "\n",
    "plt.figure(figsize=(15, 15))\n",
    "plt.subplot(1,5,1)\n",
    "plt.imshow(X=coins, cmap=\"gray\")\n",
    "plt.title(\"Coins\")\n",
    "plt.axis(\"off\")\n",
    "\n",
    "plt.subplot(1,5,2)\n",
    "plt.imshow(X=p, cmap=\"gray\")\n",
    "plt.title(\"Penny\")\n",
    "plt.axis(\"off\")\n",
    "\n",
    "plt.subplot(1,5,3)\n",
    "plt.imshow(X=n, cmap=\"gray\")\n",
    "plt.title(\"Nickel\")\n",
    "plt.axis(\"off\")\n",
    "\n",
    "plt.subplot(1,5,4)\n",
    "plt.imshow(X=d, cmap=\"gray\")\n",
    "plt.title(\"Dime\")\n",
    "plt.axis(\"off\")\n",
    "\n",
    "plt.subplot(1,5,5)\n",
    "plt.imshow(X=q, cmap=\"gray\")\n",
    "plt.title(\"Quarter\")\n",
    "plt.axis(\"off\")"
   ]
  }
 ],
 "metadata": {
  "language_info": {
   "name": "python"
  }
 },
 "nbformat": 4,
 "nbformat_minor": 2
}
